{
  "nbformat": 4,
  "nbformat_minor": 0,
  "metadata": {
    "colab": {
      "provenance": [],
      "gpuType": "T4",
      "include_colab_link": true
    },
    "kernelspec": {
      "name": "python3",
      "display_name": "Python 3"
    },
    "language_info": {
      "name": "python"
    },
    "accelerator": "GPU"
  },
  "cells": [
    {
      "cell_type": "markdown",
      "metadata": {
        "id": "view-in-github",
        "colab_type": "text"
      },
      "source": [
        "<a href=\"https://colab.research.google.com/github/Gale21367/CDCS_GA_CNN/blob/main/GA%26CNN.ipynb\" target=\"_parent\"><img src=\"https://colab.research.google.com/assets/colab-badge.svg\" alt=\"Open In Colab\"/></a>"
      ]
    },
    {
      "cell_type": "markdown",
      "source": [
        "# Chuẩn bị môi trường"
      ],
      "metadata": {
        "id": "i959hfAS-93H"
      }
    },
    {
      "cell_type": "code",
      "source": [
        "#Kết nối đến Google Driver\n",
        "from google.colab import drive\n",
        "drive.mount('/content/drive')\n"
      ],
      "metadata": {
        "id": "zDjaMBqgak7Y",
        "colab": {
          "base_uri": "https://localhost:8080/"
        },
        "outputId": "9dbf04c8-6389-4546-ec12-e99200f9f443"
      },
      "execution_count": 1,
      "outputs": [
        {
          "output_type": "stream",
          "name": "stdout",
          "text": [
            "Mounted at /content/drive\n"
          ]
        }
      ]
    },
    {
      "cell_type": "code",
      "source": [
        "from google.colab import drive\n",
        "drive.mount('/content/drive')"
      ],
      "metadata": {
        "id": "HJZjPykQwK5_"
      },
      "execution_count": null,
      "outputs": []
    },
    {
      "cell_type": "code",
      "source": [
        "import zipfile\n",
        "\n",
        "# Đường dẫn tới file zip cần giải nén\n",
        "zip_file_path = '/content/drive/MyDrive/DL&ML/GA_CNN/drive-download-20240706T193229Z-001.zip'\n",
        "\n",
        "# Đường dẫn để giải nén\n",
        "extract_to_path = '/content/drive/MyDrive/DL&ML/GA_CNN'\n",
        "\n",
        "# Giải nén file zip\n",
        "with zipfile.ZipFile(zip_file_path, 'r') as zip_ref:\n",
        "    zip_ref.extractall(extract_to_path)\n",
        "\n",
        "print(\"Đã giải nén thành công!\")"
      ],
      "metadata": {
        "id": "h5pwl5zh_NQN"
      },
      "execution_count": null,
      "outputs": []
    },
    {
      "cell_type": "code",
      "source": [
        "# Chuyển đến thư mục chứa các file Python\n",
        "import os\n",
        "os.chdir('/content/drive/MyDrive/DL&ML/CDCS/GA_CNN')\n",
        "\n",
        "# Kiểm tra các file trong thư mục hiện tại\n",
        "!ls\n"
      ],
      "metadata": {
        "id": "u1a1kLzTb1yN",
        "colab": {
          "base_uri": "https://localhost:8080/"
        },
        "outputId": "e25e0024-fcbf-4595-9aa0-73a987ff0eb6"
      },
      "execution_count": 4,
      "outputs": [
        {
          "output_type": "stream",
          "name": "stdout",
          "text": [
            "'GA&CNN_(1) (2).ipynb'\t main.py      parent_0.h5    __pycache__   utilities.py\n",
            " inout.py\t\t network.py   parent_0.obj   topology.py\n"
          ]
        }
      ]
    },
    {
      "cell_type": "markdown",
      "source": [
        "# Tải Cifar10 dataset & tiền xử lý"
      ],
      "metadata": {
        "id": "qC-FB04PfRRT"
      }
    },
    {
      "cell_type": "code",
      "source": [
        "from keras.datasets import cifar10\n",
        "from keras.utils import to_categorical\n",
        "\n",
        "def load_dataset(batch_size, num_classes, epochs):\n",
        "    print(\"Đang tải dữ liệu CIFAR-10...\")\n",
        "    (x_train, y_train), (x_test, y_test) = cifar10.load_data()\n",
        "    print(\"Dữ liệu đã được tải thành công.\")\n",
        "\n",
        "    print(\"Đang chuyển đổi kiểu dữ liệu...\")\n",
        "    x_train = x_train.astype('float32')  # chuyển từ số nguyên sang số thực\n",
        "    x_test = x_test.astype('float32')\n",
        "\n",
        "    print(\"Đang chuẩn hóa dữ liệu về khoảng 0-1...\")\n",
        "    x_train /= 255  # chuẩn hóa về khoảng 0-1\n",
        "    x_test /= 255\n",
        "\n",
        "    print(\"Đang thực hiện mã hóa one-hot cho nhãn...\")\n",
        "    y_train = to_categorical(y_train, num_classes)  # mã hóa one-hot cho nhãn\n",
        "    y_test = to_categorical(y_test, num_classes)\n",
        "\n",
        "    dataset = {\n",
        "        'batch_size': batch_size,\n",
        "        'num_classes': num_classes,\n",
        "        'epochs': epochs,\n",
        "        'x_train': x_train,\n",
        "        'x_test': x_test,\n",
        "        'y_train': y_train,\n",
        "        'y_test': y_test\n",
        "    }\n",
        "\n",
        "    print(\"Chuẩn bị dữ liệu hoàn thành.\")\n",
        "    return dataset\n"
      ],
      "metadata": {
        "id": "HftY67CGdfHy"
      },
      "execution_count": 5,
      "outputs": []
    },
    {
      "cell_type": "markdown",
      "source": [
        "# Cài đặt tham số"
      ],
      "metadata": {
        "id": "u8HyGXRJa_Xg"
      }
    },
    {
      "cell_type": "code",
      "source": [
        "# Cài đặt các tham số\n",
        "batch_size = 32                         # số lượng mẫu trong một forward/backward pass\n",
        "num_classes = 10                        # số lớp của bộ dữ liệu CIFAR-10\n",
        "epochs = 15                             # số lần lặp forward và backward của tất cả các mẫu đào tạo\n",
        "num_epoch = 15                           # số lượng epoch cho quá trình huấn luyện cuối cùng\n",
        "dataset = load_dataset(batch_size, num_classes, epochs)\n",
        "\n",
        "\n",
        "num_population = 6                     # kích thước dân số\n",
        "num_generation = 6                     # số thế hệ\n",
        "num_offspring = 4                      # số con\n",
        "resume_from_checkpoint = None           # đường dẫn đến checkpoint nếu muốn tiếp tục từ checkpoint\n",
        "\n",
        "# In các tham số để xác nhận\n",
        "print(f'batch_size: {batch_size}')\n",
        "print(f'num_classes: {num_classes}')\n",
        "print(f'epochs: {epochs}')\n",
        "print(f'num_population: {num_population}')\n",
        "print(f'num_generation: {num_generation}')\n",
        "print(f'num_offspring: {num_offspring}')\n",
        "print(f'resume_from_checkpoint: {resume_from_checkpoint}')\n"
      ],
      "metadata": {
        "colab": {
          "base_uri": "https://localhost:8080/"
        },
        "id": "QOIIQNeebGHt",
        "outputId": "2c437cf4-c8a1-466c-e118-7ffe65fd8628"
      },
      "execution_count": 6,
      "outputs": [
        {
          "output_type": "stream",
          "name": "stdout",
          "text": [
            "Đang tải dữ liệu CIFAR-10...\n",
            "Downloading data from https://www.cs.toronto.edu/~kriz/cifar-10-python.tar.gz\n",
            "170498071/170498071 [==============================] - 2s 0us/step\n",
            "Dữ liệu đã được tải thành công.\n",
            "Đang chuyển đổi kiểu dữ liệu...\n",
            "Đang chuẩn hóa dữ liệu về khoảng 0-1...\n",
            "Đang thực hiện mã hóa one-hot cho nhãn...\n",
            "Chuẩn bị dữ liệu hoàn thành.\n",
            "batch_size: 32\n",
            "num_classes: 10\n",
            "epochs: 15\n",
            "num_population: 6\n",
            "num_generation: 6\n",
            "num_offspring: 4\n",
            "resume_from_checkpoint: None\n"
          ]
        }
      ]
    },
    {
      "cell_type": "markdown",
      "source": [
        "# Main"
      ],
      "metadata": {
        "id": "IOt6VAjIaiMd"
      }
    },
    {
      "cell_type": "code",
      "source": [
        "import tensorflow as tf\n",
        "import os\n",
        "from network import Network\n",
        "from inout import compute_parent\n",
        "from random import randint, sample\n",
        "from utilities import order_indexes, plot_training, plot_statistics, load_network\n",
        "from copy import deepcopy\n",
        "\n",
        "tf.compat.v1.logging.set_verbosity(tf.compat.v1.logging.ERROR)      # Tắt các thông báo từ Tensorflow\n",
        "os.environ['TF_CPP_MIN_LOG_LEVEL'] = '2'\n",
        "\n",
        "\n",
        "def initialize_population(population_size, dataset):\n",
        "    print(\"----->Khởi tạo Quần thể\")\n",
        "    daddy = compute_parent(dataset)                                 # Tải cá thể cha mẹ từ đầu vào\n",
        "    population = [daddy]\n",
        "    for it in range(1, population_size):\n",
        "        population.append(daddy.asexual_reproduction(it, dataset))\n",
        "\n",
        "    # Sắp xếp quần thể theo thứ tự tăng dần dựa trên độ thích nghi (fitness)\n",
        "    return sorted(population, key=lambda cnn: cnn.fitness)\n",
        "\n",
        "\n",
        "def selection(k, population, num_population):\n",
        "    if k == 0:                                              # Lựa chọn bảo toàn\n",
        "        print(\"----->Lựa chọn Elitism\")\n",
        "        return population[0], population[1]\n",
        "    elif k == 1:                                            # Lựa chọn giải đấu\n",
        "        print(\"----->Lựa chọn Tournament\")\n",
        "        i = randint(0, num_population - 1)\n",
        "        j = i\n",
        "        while j < num_population - 1:\n",
        "            j += 1\n",
        "            if randint(1, 100) <= 50:\n",
        "                return population[i], population[j]\n",
        "        return population[i], population[0]\n",
        "    else:                                                   # Lựa chọn tỷ lệ\n",
        "        print(\"----->Lựa chọn Proportionate\")\n",
        "        cum_sum = 0\n",
        "        for i in range(num_population):\n",
        "            cum_sum += population[i].fitness\n",
        "        perc_range = []\n",
        "        for i in range(num_population):\n",
        "            count = 100 - int(100 * population[i].fitness / cum_sum)\n",
        "            for j in range(count):\n",
        "                perc_range.append(i)\n",
        "        i, j = sample(range(1, len(perc_range)), 2)\n",
        "        while i == j:\n",
        "            i, j = sample(range(1, len(perc_range)), 2)\n",
        "        return population[perc_range[i]], population[perc_range[j]]\n",
        "\n",
        "\n",
        "def crossover(parent1, parent2, it):\n",
        "    print(\"----->Sự Giao thoa\")\n",
        "    child = Network(it)\n",
        "\n",
        "    first, second = None, None\n",
        "    if randint(0, 1):\n",
        "        first = parent1\n",
        "        second = parent2\n",
        "    else:\n",
        "        first = parent2\n",
        "        second = parent1\n",
        "\n",
        "    child.block_list = deepcopy(first.block_list[:randint(1, len(first.block_list) - 1)]) \\\n",
        "                       + deepcopy(second.block_list[randint(1, len(second.block_list) - 1):])\n",
        "\n",
        "    order_indexes(child)                            # Sắp xếp các chỉ số của các khối\n",
        "\n",
        "    return child\n",
        "\n",
        "\n",
        "def genetic_algorithm(num_population, num_generation, num_offspring, dataset, resume_from_checkpoint=None):\n",
        "    print(\"Thuật toán Di truyền\")\n",
        "\n",
        "    population = initialize_population(num_population, dataset)\n",
        "\n",
        "    if resume_from_checkpoint:\n",
        "        # Tải mô hình từ checkpoint nếu có\n",
        "        print(f\"Tiếp tục từ điểm kiểm soát: {resume_from_checkpoint}\")\n",
        "        model = tf.keras.models.load_model(resume_from_checkpoint)\n",
        "        # Cập nhật cá thể ban đầu với mô hình đã tải\n",
        "        population[0].model = model\n",
        "        population[0].train_and_evaluate(model, dataset)\n",
        "\n",
        "    print(\"\\n-------------------------------------\")\n",
        "    print(\"Quần thể Ban đầu:\")\n",
        "    for cnn in population:\n",
        "        print(cnn.name, ': ', cnn.fitness)\n",
        "    print(\"--------------------------------------\\n\")\n",
        "\n",
        "    # Để in thống kê về độ thích nghi và số lượng tham số của cá thể tốt nhất\n",
        "    stats = [(population[0].fitness, population[0].model.count_params())]\n",
        "\n",
        "    for gen in range(1, num_generation + 1):\n",
        "\n",
        "        '''\n",
        "            k là tham số lựa chọn:\n",
        "                k = 0 -> Lựa chọn elitism\n",
        "                k = 1 -> Lựa chọn tournament\n",
        "                k = 2 -> Lựa chọn proportionate\n",
        "        '''\n",
        "        k = randint(0, 2)\n",
        "\n",
        "        print(\"\\n------------------------------------\")\n",
        "        print(\"Thế hệ\", gen)\n",
        "        print(\"-------------------------------------\")\n",
        "\n",
        "        for c in range(num_offspring):\n",
        "\n",
        "            print(\"\\nTạo Ra Con cái\", c)\n",
        "\n",
        "            parent1, parent2 = selection(k, population, num_population)                 # Lựa chọn\n",
        "            print(\"Chọn\", parent1.name, \"và\", parent2.name, \"để sinh sản\")\n",
        "\n",
        "            child = crossover(parent1, parent2, c + num_population)                     # Giao thoa\n",
        "            print(\"Đã tạo ra Con cái\")\n",
        "\n",
        "            print(\"----->Đột biến Nhẹ\")\n",
        "            child.layer_mutation(dataset)                                               # Đột biến\n",
        "            child.parameters_mutation()\n",
        "            print(\"Đã đột biến Con cái\")\n",
        "\n",
        "            model = child.build_model()                                                 # Đánh giá\n",
        "\n",
        "            while model == -1:\n",
        "                child = crossover(parent1, parent2, c + num_population)\n",
        "                child.block_mutation(dataset)\n",
        "                child.layer_mutation(dataset)\n",
        "                child.parameters_mutation()\n",
        "                model = child.build_model()\n",
        "\n",
        "            child.train_and_evaluate(model, dataset)\n",
        "\n",
        "            if child.fitness < population[-1].fitness:                                  # Tiến hóa quần thể\n",
        "                print(\"----->Tiến hóa: Con cái\", child.name, \"với độ thích nghi\", child.fitness, \"thay thế cha mẹ \", end=\"\")\n",
        "                print(population[-1].name, \"với độ thích nghi\", population[-1].fitness)\n",
        "                name = population[-1].name\n",
        "                population[-1] = deepcopy(child)\n",
        "                population[-1].name = name\n",
        "                population = sorted(population, key=lambda net: net.fitness)\n",
        "            else:\n",
        "                print(\"----->Tiến hóa: Con cái\", child.name, \"với độ thích nghi\", child.fitness, \"bị loại bỏ\")\n",
        "\n",
        "        stats.append((population[0].fitness, population[0].model.count_params()))\n",
        "\n",
        "        # Lưu checkpoint sau mỗi thế hệ\n",
        "        checkpoint_dir = './checkpoints'\n",
        "        os.makedirs(checkpoint_dir, exist_ok=True)\n",
        "        checkpoint_path = os.path.join(checkpoint_dir, f'generation_{gen}.h5')\n",
        "        population[0].model.save(checkpoint_path)\n",
        "\n",
        "    print(\"\\n\\n-------------------------------------\")\n",
        "    print(\"Quần thể Cuối cùng\")\n",
        "    print(\"-------------------------------------\\n\")\n",
        "    for cnn in population:\n",
        "        print(cnn.name, ': ', cnn.fitness)\n",
        "\n",
        "    print(\"\\n-------------------------------------\")\n",
        "    print(\"Thống kê\")\n",
        "    for i in range(len(stats)):\n",
        "        print(\"Cá thể tốt nhất ở thế hệ\", i + 1, \"có độ thích nghi\", stats[i][0], \"và số lượng tham số\", stats[i][1])\n",
        "    print(\"-------------------------------------\\n\")\n",
        "\n",
        "    # Vẽ biểu đồ về độ thích nghi và số lượng tham số của cá thể tốt nhất ở mỗi vòng lặp\n",
        "    plot_statistics(stats)\n",
        "\n",
        "    return population[0]\n",
        "\n",
        "\n",
        "def main():\n",
        "    '''\n",
        "        dataset chứa các siêu tham số để tải dữ liệu và tập dữ liệu:\n",
        "            dataset = {\n",
        "                'batch_size': batch_size,\n",
        "                'num_classes': num_classes,\n",
        "                'epochs': epochs,\n",
        "                'x_train': x_train,\n",
        "                'x_test': x_test,\n",
        "                'y_train': y_train,\n",
        "                'y_test': y_test\n",
        "            }\n",
        "    '''\n",
        "    dataset = load_dataset(batch_size, num_classes, epochs)\n",
        "    resume_from_checkpoint = None  # Đặt lại thành đường dẫn của checkpoint nếu bạn muốn tiếp tục từ checkpoint\n",
        "\n",
        "    # Vẽ biểu đồ về mô hình tốt nhất thu được\n",
        "    optCNN = genetic_algorithm(num_population, num_generation, num_offspring, dataset, resume_from_checkpoint)\n",
        "\n",
        "    # Vẽ biểu đồ về sự mất mát và độ chính xác trong quá trình huấn luyện và xác thực\n",
        "    model = optCNN.build_model()\n",
        "    model.compile(optimizer='rmsprop', loss='categorical_crossentropy', metrics=['accuracy'])\n",
        "    history = model.fit(dataset['x_train'],\n",
        "                        dataset['y_train'],\n",
        "                        batch_size=dataset['batch_size'],\n",
        "                        epochs=num_epoch,\n",
        "                        validation_data=(dataset['x_test'], dataset['y_test']),\n",
        "                        shuffle=True)\n",
        "    optCNN.model = model                                        # model\n",
        "    optCNN.fitness = history.history['val_loss'][-1]            # fitness\n",
        "\n",
        "    print(\"\\n\\n-------------------------------------\")\n",
        "    print(\"CNN ban đầu đã được tiến hóa thành công trong các cá thể\", optCNN.name)\n",
        "    print(\"-------------------------------------\\n\")\n",
        "    daddy = load_network('parent_0')\n",
        "    model = tf.keras.models.load_model('parent_0.h5')\n",
        "    print(\"\\n\\n-------------------------------------\")\n",
        "    print(\"Tóm tắt của CNN ban đầu\")\n",
        "    print(model.summary())\n",
        "    print(\"Fitness của CNN ban đầu:\", daddy.fitness)\n",
        "\n",
        "    print(\"\\n\\n-------------------------------------\")\n",
        "    print(\"Tóm tắt của cá thể tiến hóa\")\n",
        "    print(optCNN.model.summary())\n",
        "    print(\"Fitness của cá thể tiến hóa:\", optCNN.fitness)\n",
        "    print(\"-------------------------------------\\n\")\n",
        "\n",
        "    plot_training(history)\n",
        "\n",
        "\n",
        "if __name__ == '__main__':\n",
        "    main()"
      ],
      "metadata": {
        "colab": {
          "base_uri": "https://localhost:8080/",
          "height": 373
        },
        "id": "2Y_BDJtcGYsi",
        "outputId": "9e9e1e0d-55cb-452f-abce-358a8666146a"
      },
      "execution_count": 7,
      "outputs": [
        {
          "output_type": "stream",
          "name": "stdout",
          "text": [
            "Đang tải dữ liệu CIFAR-10...\n",
            "Dữ liệu đã được tải thành công.\n",
            "Đang chuyển đổi kiểu dữ liệu...\n"
          ]
        },
        {
          "output_type": "error",
          "ename": "KeyboardInterrupt",
          "evalue": "",
          "traceback": [
            "\u001b[0;31m---------------------------------------------------------------------------\u001b[0m",
            "\u001b[0;31mKeyboardInterrupt\u001b[0m                         Traceback (most recent call last)",
            "\u001b[0;32m<ipython-input-7-78376c314a04>\u001b[0m in \u001b[0;36m<cell line: 221>\u001b[0;34m()\u001b[0m\n\u001b[1;32m    220\u001b[0m \u001b[0;34m\u001b[0m\u001b[0m\n\u001b[1;32m    221\u001b[0m \u001b[0;32mif\u001b[0m \u001b[0m__name__\u001b[0m \u001b[0;34m==\u001b[0m \u001b[0;34m'__main__'\u001b[0m\u001b[0;34m:\u001b[0m\u001b[0;34m\u001b[0m\u001b[0;34m\u001b[0m\u001b[0m\n\u001b[0;32m--> 222\u001b[0;31m     \u001b[0mmain\u001b[0m\u001b[0;34m(\u001b[0m\u001b[0;34m)\u001b[0m\u001b[0;34m\u001b[0m\u001b[0;34m\u001b[0m\u001b[0m\n\u001b[0m",
            "\u001b[0;32m<ipython-input-7-78376c314a04>\u001b[0m in \u001b[0;36mmain\u001b[0;34m()\u001b[0m\n\u001b[1;32m    182\u001b[0m             }\n\u001b[1;32m    183\u001b[0m     '''\n\u001b[0;32m--> 184\u001b[0;31m     \u001b[0mdataset\u001b[0m \u001b[0;34m=\u001b[0m \u001b[0mload_dataset\u001b[0m\u001b[0;34m(\u001b[0m\u001b[0mbatch_size\u001b[0m\u001b[0;34m,\u001b[0m \u001b[0mnum_classes\u001b[0m\u001b[0;34m,\u001b[0m \u001b[0mepochs\u001b[0m\u001b[0;34m)\u001b[0m\u001b[0;34m\u001b[0m\u001b[0;34m\u001b[0m\u001b[0m\n\u001b[0m\u001b[1;32m    185\u001b[0m     \u001b[0mresume_from_checkpoint\u001b[0m \u001b[0;34m=\u001b[0m \u001b[0;32mNone\u001b[0m  \u001b[0;31m# Đặt lại thành đường dẫn của checkpoint nếu bạn muốn tiếp tục từ checkpoint\u001b[0m\u001b[0;34m\u001b[0m\u001b[0;34m\u001b[0m\u001b[0m\n\u001b[1;32m    186\u001b[0m \u001b[0;34m\u001b[0m\u001b[0m\n",
            "\u001b[0;32m<ipython-input-5-22a113882aca>\u001b[0m in \u001b[0;36mload_dataset\u001b[0;34m(batch_size, num_classes, epochs)\u001b[0m\n\u001b[1;32m      8\u001b[0m \u001b[0;34m\u001b[0m\u001b[0m\n\u001b[1;32m      9\u001b[0m     \u001b[0mprint\u001b[0m\u001b[0;34m(\u001b[0m\u001b[0;34m\"Đang chuyển đổi kiểu dữ liệu...\"\u001b[0m\u001b[0;34m)\u001b[0m\u001b[0;34m\u001b[0m\u001b[0;34m\u001b[0m\u001b[0m\n\u001b[0;32m---> 10\u001b[0;31m     \u001b[0mx_train\u001b[0m \u001b[0;34m=\u001b[0m \u001b[0mx_train\u001b[0m\u001b[0;34m.\u001b[0m\u001b[0mastype\u001b[0m\u001b[0;34m(\u001b[0m\u001b[0;34m'float32'\u001b[0m\u001b[0;34m)\u001b[0m  \u001b[0;31m# chuyển từ số nguyên sang số thực\u001b[0m\u001b[0;34m\u001b[0m\u001b[0;34m\u001b[0m\u001b[0m\n\u001b[0m\u001b[1;32m     11\u001b[0m     \u001b[0mx_test\u001b[0m \u001b[0;34m=\u001b[0m \u001b[0mx_test\u001b[0m\u001b[0;34m.\u001b[0m\u001b[0mastype\u001b[0m\u001b[0;34m(\u001b[0m\u001b[0;34m'float32'\u001b[0m\u001b[0;34m)\u001b[0m\u001b[0;34m\u001b[0m\u001b[0;34m\u001b[0m\u001b[0m\n\u001b[1;32m     12\u001b[0m \u001b[0;34m\u001b[0m\u001b[0m\n",
            "\u001b[0;31mKeyboardInterrupt\u001b[0m: "
          ]
        }
      ]
    }
  ]
}